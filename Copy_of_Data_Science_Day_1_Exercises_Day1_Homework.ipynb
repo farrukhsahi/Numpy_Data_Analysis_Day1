{
 "cells": [
  {
   "cell_type": "markdown",
   "metadata": {
    "id": "KdERlTpFuL5V"
   },
   "source": [
    "# Exercises"
   ]
  },
  {
   "cell_type": "markdown",
   "metadata": {
    "id": "to-gsrQyuL5Z"
   },
   "source": [
    "### #1 - Calculate the BMI (body mass index) on the two lists below using NDArrays..."
   ]
  },
  {
   "cell_type": "code",
   "execution_count": 3,
   "metadata": {
    "id": "iZlf9DzeuL5a"
   },
   "outputs": [
    {
     "name": "stdout",
     "output_type": "stream",
     "text": [
      "BMI values:\n",
      "[16.87 17.88 18.83 19.71 20.55 21.33 22.06]\n"
     ]
    }
   ],
   "source": [
    "import numpy as np\n",
    "# formula = weight / (height**2) * 730\n",
    "height = [69, 70, 71, 72, 73, 74, 75]\n",
    "weight = [110, 120, 130, 140, 150, 160, 170]\n",
    "\n",
    "# Converting height and weight lists to Numpy arrays\n",
    "height_np = np.array([69, 70, 71, 72, 73, 74, 75])\n",
    "weight_np = np.array([110, 120, 130, 140, 150, 160, 170])\n",
    "\n",
    "# Calculating BMI using the formula\n",
    "bmi = weight_np / (height_np ** 2) * 730\n",
    "\n",
    "bmi_rounded = np.round(bmi, 2)\n",
    "\n",
    "print(\"BMI values:\")\n",
    "print(bmi_rounded)"
   ]
  },
  {
   "cell_type": "markdown",
   "metadata": {
    "id": "RSsT8w8ouL5b"
   },
   "source": [
    "### #2 - Create a function that will take in two parameters and will create a random matrix based off of those parameters. Extra: Have additional parameters taken in that allow the user to choose the shape and data type of the matrix."
   ]
  },
  {
   "cell_type": "code",
   "execution_count": 7,
   "metadata": {
    "id": "ygFvj0aeuL5b"
   },
   "outputs": [
    {
     "name": "stdout",
     "output_type": "stream",
     "text": [
      "Random Matrix:\n",
      "[[0.19959035 0.02508451 0.28474539 0.93252351]\n",
      " [0.48083203 0.44841182 0.73804807 0.99995733]\n",
      " [0.79429225 0.44724637 0.28482186 0.07736952]]\n"
     ]
    }
   ],
   "source": [
    "def create_random_matrix(rows, columns, shape='rectangular', dtype=float):\n",
    "    \"\"\"\n",
    "    Create a random matrix based on the given parameters.\n",
    "    \n",
    "    Parameters:\n",
    "    - rows: Number of rows in the matrix\n",
    "    - columns: Number of columns in the matrix\n",
    "    - shape: Shape of the matrix, either 'rectangular' or 'square'\n",
    "    - dtype: Data type of the matrix elements\n",
    "    \n",
    "    Returns:\n",
    "    - Random matrix\n",
    "    \"\"\"\n",
    "    \n",
    "    if shape == 'rectangular':\n",
    "        matrix = np.random.rand(rows, columns)\n",
    "    elif shape == 'square':\n",
    "        size = min(rows, columns)\n",
    "        matrix = np.random.rand(size, size)\n",
    "    else:\n",
    "        raise ValueError(\"Invalid shape. Choose 'rectangular' or 'square'.\")\n",
    "    \n",
    "    # Convert matrix elements to the specified data type\n",
    "    matrix = matrix.astype(dtype)\n",
    "    \n",
    "    return matrix\n",
    "\n",
    "# Example usage\n",
    "rows_input = 3\n",
    "column_input = 4\n",
    "shape_input = 'rectangular'\n",
    "dtype_input = float\n",
    "\n",
    "random_matrix = create_random_matrix(rows_input, column_input, shape_input, dtype_input)\n",
    "print(\"Random Matrix:\")\n",
    "print(random_matrix)"
   ]
  },
  {
   "cell_type": "markdown",
   "metadata": {
    "id": "e5mP1UX9uL5c"
   },
   "source": [
    "### #3 - Extra: Open and load the data in the two text files that have the Boston Red Sox hitting data for the past seasons. Compare the difference in the two years by putting the data into an NDArray and running a differencial operation on it. The column to look for will be SLG.\n",
    "\n",
    "Your output should display which year (either 2017 or 2018) was a better year based on SLG"
   ]
  },
  {
   "cell_type": "code",
   "execution_count": null,
   "metadata": {
    "id": "iAExC-SjuL5c"
   },
   "outputs": [],
   "source": [
    "# I need guidance on this. I am unable to do this."
   ]
  },
  {
   "cell_type": "code",
   "execution_count": null,
   "metadata": {
    "id": "P8Rwr8lmuL5e"
   },
   "outputs": [],
   "source": [
    "FIELDS = ['Rk', 'Pos', 'Name', 'Age', 'G', 'PA', 'AB', 'R', 'H', '2B', '3B', 'HR', 'RBI', 'SB', 'CS', \n",
    "          'BB', 'SO', 'BA', 'OBP', 'SLG', 'OPS', 'OPS+', 'TB', 'GDP', 'HBP', 'SH', 'SF', 'IBB']\n",
    "\n",
    "DATATYPES = [('rk', 'i'), ('pos', '|S25'), ('name', '|S25'), ('age', 'i'), ('g', 'i'), ('pa', 'i'), ('ab', 'i'),\n",
    "                ('r', 'i'), ('h', 'i'), ('2b', 'i'), ('3b', 'i'), ('hr', 'i'), ('rbi', 'i'), ('sb', 'i'), ('cs', 'i'),\n",
    "                ('bb', 'i'), ('so', 'i'), ('ba', 'f'), ('obp', 'f'), ('slg', 'f'), ('ops', 'f'), ('opsp', 'i'),\n",
    "                ('tb', 'i'), ('gdp', 'i'), ('hbp', 'i'), ('sh', 'i'), ('sf', 'i'), ('ibb', 'i')]\n",
    "\n",
    "#Use this function to actually open the data inside of a NDArray\n",
    "\n",
    "\n"
   ]
  }
 ],
 "metadata": {
  "colab": {
   "name": "Copy of Data_Science_Day_1_Exercises-Day1- Homework.ipynb",
   "provenance": []
  },
  "kernelspec": {
   "display_name": "Python 3 (ipykernel)",
   "language": "python",
   "name": "python3"
  },
  "language_info": {
   "codemirror_mode": {
    "name": "ipython",
    "version": 3
   },
   "file_extension": ".py",
   "mimetype": "text/x-python",
   "name": "python",
   "nbconvert_exporter": "python",
   "pygments_lexer": "ipython3",
   "version": "3.11.4"
  }
 },
 "nbformat": 4,
 "nbformat_minor": 1
}
